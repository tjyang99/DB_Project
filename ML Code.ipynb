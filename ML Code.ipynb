{
 "cells": [
  {
   "cell_type": "code",
   "execution_count": 1,
   "id": "37a11cca",
   "metadata": {},
   "outputs": [
    {
     "data": {
      "text/plain": [
       "True"
      ]
     },
     "execution_count": 1,
     "metadata": {},
     "output_type": "execute_result"
    }
   ],
   "source": [
    "import torch\n",
    "import pandas as pd\n",
    "import numpy as np\n",
    "\n",
    "torch.cuda.is_available()"
   ]
  },
  {
   "cell_type": "code",
   "execution_count": 2,
   "id": "b5b8f17a",
   "metadata": {},
   "outputs": [
    {
     "data": {
      "text/plain": [
       "1"
      ]
     },
     "execution_count": 2,
     "metadata": {},
     "output_type": "execute_result"
    }
   ],
   "source": [
    "torch.cuda.device_count()"
   ]
  },
  {
   "cell_type": "code",
   "execution_count": 3,
   "id": "d8b0bfb6",
   "metadata": {},
   "outputs": [
    {
     "data": {
      "text/plain": [
       "0"
      ]
     },
     "execution_count": 3,
     "metadata": {},
     "output_type": "execute_result"
    }
   ],
   "source": [
    "torch.cuda.current_device()"
   ]
  },
  {
   "cell_type": "code",
   "execution_count": 4,
   "id": "9ef62f26",
   "metadata": {},
   "outputs": [
    {
     "data": {
      "text/plain": [
       "<torch.cuda.device at 0x1c72d11b8c8>"
      ]
     },
     "execution_count": 4,
     "metadata": {},
     "output_type": "execute_result"
    }
   ],
   "source": [
    "torch.cuda.device(0)"
   ]
  },
  {
   "cell_type": "code",
   "execution_count": 5,
   "id": "66b17c31",
   "metadata": {},
   "outputs": [
    {
     "data": {
      "text/plain": [
       "'NVIDIA GeForce RTX 2070'"
      ]
     },
     "execution_count": 5,
     "metadata": {},
     "output_type": "execute_result"
    }
   ],
   "source": [
    "torch.cuda.get_device_name(0)"
   ]
  },
  {
   "cell_type": "code",
   "execution_count": 6,
   "id": "0febae95",
   "metadata": {},
   "outputs": [
    {
     "data": {
      "text/plain": [
       "tensor([[8.0000e+00, 2.6166e+04],\n",
       "        [5.0000e+00, 2.0778e+04],\n",
       "        [5.0000e+00, 2.8813e+05],\n",
       "        [7.0000e+00, 1.9321e+05],\n",
       "        [8.0000e+00, 2.7733e+05],\n",
       "        [5.0000e+00, 5.1858e+04],\n",
       "        [5.0000e+00, 8.6110e+04],\n",
       "        [5.0000e+00, 4.0104e+04],\n",
       "        [9.0000e+00, 1.7452e+05],\n",
       "        [5.0000e+00, 3.9795e+04],\n",
       "        [5.0000e+00, 7.4772e+04],\n",
       "        [5.0000e+00, 2.3891e+05],\n",
       "        [7.0000e+00, 4.0077e+04],\n",
       "        [6.0000e+00, 2.0268e+05],\n",
       "        [8.0000e+00, 9.6443e+04],\n",
       "        [8.0000e+00, 2.9594e+05],\n",
       "        [8.0000e+00, 2.8595e+05],\n",
       "        [6.0000e+00, 2.7398e+05],\n",
       "        [6.0000e+00, 2.2946e+05],\n",
       "        [8.0000e+00, 9.1274e+04],\n",
       "        [9.0000e+00, 2.2653e+05],\n",
       "        [7.0000e+00, 2.3280e+05],\n",
       "        [5.0000e+00, 1.4507e+05],\n",
       "        [5.0000e+00, 2.2238e+05],\n",
       "        [5.0000e+00, 1.5858e+05],\n",
       "        [6.0000e+00, 1.6034e+05],\n",
       "        [9.0000e+00, 2.0128e+05],\n",
       "        [5.0000e+00, 2.7981e+05],\n",
       "        [7.0000e+00, 2.3150e+05],\n",
       "        [6.0000e+00, 1.8798e+05],\n",
       "        [5.0000e+00, 1.6108e+04],\n",
       "        [5.0000e+00, 1.8998e+05],\n",
       "        [9.0000e+00, 2.0625e+04],\n",
       "        [9.0000e+00, 5.3482e+04],\n",
       "        [6.0000e+00, 2.0682e+04],\n",
       "        [7.0000e+00, 2.2727e+05],\n",
       "        [5.0000e+00, 2.6998e+05],\n",
       "        [7.0000e+00, 7.1996e+04],\n",
       "        [9.0000e+00, 9.6267e+04],\n",
       "        [5.0000e+00, 1.1196e+05],\n",
       "        [6.0000e+00, 1.7020e+05],\n",
       "        [7.0000e+00, 2.6316e+05],\n",
       "        [7.0000e+00, 1.2854e+05],\n",
       "        [5.0000e+00, 5.2065e+04],\n",
       "        [8.0000e+00, 2.9627e+05],\n",
       "        [9.0000e+00, 6.6879e+04],\n",
       "        [9.0000e+00, 2.8990e+05],\n",
       "        [6.0000e+00, 4.1404e+04],\n",
       "        [8.0000e+00, 1.5502e+04],\n",
       "        [7.0000e+00, 1.0722e+05],\n",
       "        [6.0000e+00, 2.9810e+04],\n",
       "        [7.0000e+00, 2.3557e+05],\n",
       "        [5.0000e+00, 1.8668e+05],\n",
       "        [5.0000e+00, 2.1988e+05],\n",
       "        [6.0000e+00, 1.3740e+05],\n",
       "        [9.0000e+00, 1.0943e+05],\n",
       "        [7.0000e+00, 7.9412e+04],\n",
       "        [8.0000e+00, 2.3683e+05],\n",
       "        [5.0000e+00, 1.7793e+04],\n",
       "        [7.0000e+00, 2.7658e+05],\n",
       "        [5.0000e+00, 8.2987e+04],\n",
       "        [8.0000e+00, 1.8414e+05],\n",
       "        [7.0000e+00, 1.3478e+05],\n",
       "        [5.0000e+00, 2.6921e+04],\n",
       "        [9.0000e+00, 1.4041e+05],\n",
       "        [8.0000e+00, 1.7236e+04],\n",
       "        [6.0000e+00, 2.6137e+05],\n",
       "        [7.0000e+00, 2.9386e+05],\n",
       "        [7.0000e+00, 1.9271e+05],\n",
       "        [8.0000e+00, 2.8304e+05],\n",
       "        [5.0000e+00, 2.1476e+04],\n",
       "        [9.0000e+00, 2.1117e+05],\n",
       "        [9.0000e+00, 2.3527e+05],\n",
       "        [7.0000e+00, 1.5274e+05],\n",
       "        [6.0000e+00, 1.8118e+05],\n",
       "        [6.0000e+00, 4.3780e+04],\n",
       "        [8.0000e+00, 1.1642e+05],\n",
       "        [5.0000e+00, 1.1590e+03],\n",
       "        [6.0000e+00, 1.6782e+05],\n",
       "        [7.0000e+00, 1.1466e+05],\n",
       "        [7.0000e+00, 2.2966e+05],\n",
       "        [7.0000e+00, 1.3606e+05],\n",
       "        [7.0000e+00, 2.2234e+05],\n",
       "        [5.0000e+00, 1.6937e+05],\n",
       "        [6.0000e+00, 2.3872e+05],\n",
       "        [6.0000e+00, 2.0874e+05],\n",
       "        [8.0000e+00, 8.9960e+04],\n",
       "        [7.0000e+00, 5.6567e+04],\n",
       "        [8.0000e+00, 9.1241e+04],\n",
       "        [7.0000e+00, 2.6991e+05],\n",
       "        [9.0000e+00, 2.5328e+05],\n",
       "        [9.0000e+00, 9.8959e+04],\n",
       "        [9.0000e+00, 2.8426e+05],\n",
       "        [8.0000e+00, 2.3121e+05],\n",
       "        [8.0000e+00, 1.1690e+05],\n",
       "        [6.0000e+00, 5.8515e+04],\n",
       "        [7.0000e+00, 1.8442e+05],\n",
       "        [9.0000e+00, 8.2148e+04],\n",
       "        [7.0000e+00, 1.5715e+04],\n",
       "        [6.0000e+00, 1.7416e+05],\n",
       "        [6.0000e+00, 2.7229e+05],\n",
       "        [7.0000e+00, 3.5620e+04],\n",
       "        [5.0000e+00, 1.4322e+05],\n",
       "        [5.0000e+00, 1.0889e+05],\n",
       "        [6.0000e+00, 1.7895e+05],\n",
       "        [9.0000e+00, 2.1293e+05],\n",
       "        [5.0000e+00, 9.7983e+04],\n",
       "        [8.0000e+00, 2.1168e+05],\n",
       "        [7.0000e+00, 2.4527e+05],\n",
       "        [9.0000e+00, 6.7135e+04],\n",
       "        [9.0000e+00, 1.9154e+05],\n",
       "        [8.0000e+00, 2.3464e+05],\n",
       "        [9.0000e+00, 2.6960e+05],\n",
       "        [9.0000e+00, 6.5984e+04],\n",
       "        [9.0000e+00, 2.9170e+05],\n",
       "        [9.0000e+00, 5.7384e+04],\n",
       "        [7.0000e+00, 2.5873e+05],\n",
       "        [8.0000e+00, 2.1978e+05],\n",
       "        [6.0000e+00, 1.3843e+05],\n",
       "        [6.0000e+00, 1.4313e+05],\n",
       "        [6.0000e+00, 2.4375e+05],\n",
       "        [8.0000e+00, 1.9605e+05],\n",
       "        [5.0000e+00, 1.8422e+05],\n",
       "        [9.0000e+00, 2.3306e+05],\n",
       "        [9.0000e+00, 2.6881e+05],\n",
       "        [9.0000e+00, 1.8639e+05],\n",
       "        [5.0000e+00, 1.6942e+05],\n",
       "        [5.0000e+00, 2.5598e+04],\n",
       "        [8.0000e+00, 4.2778e+04],\n",
       "        [8.0000e+00, 2.5844e+04],\n",
       "        [6.0000e+00, 1.5690e+05],\n",
       "        [9.0000e+00, 5.8928e+04],\n",
       "        [6.0000e+00, 6.2152e+04],\n",
       "        [6.0000e+00, 1.6548e+05],\n",
       "        [7.0000e+00, 1.8499e+05],\n",
       "        [6.0000e+00, 1.1468e+05],\n",
       "        [9.0000e+00, 1.8663e+05],\n",
       "        [5.0000e+00, 2.0754e+05],\n",
       "        [5.0000e+00, 2.6511e+05],\n",
       "        [9.0000e+00, 1.2169e+05],\n",
       "        [9.0000e+00, 6.1442e+04],\n",
       "        [6.0000e+00, 1.7224e+05],\n",
       "        [5.0000e+00, 2.5685e+05],\n",
       "        [6.0000e+00, 2.0428e+05],\n",
       "        [7.0000e+00, 4.7519e+04],\n",
       "        [7.0000e+00, 2.1164e+05],\n",
       "        [9.0000e+00, 1.2545e+05],\n",
       "        [5.0000e+00, 1.0025e+05],\n",
       "        [5.0000e+00, 8.0576e+04],\n",
       "        [8.0000e+00, 1.4597e+05],\n",
       "        [6.0000e+00, 4.2936e+04],\n",
       "        [7.0000e+00, 2.8336e+05],\n",
       "        [9.0000e+00, 1.3162e+05],\n",
       "        [8.0000e+00, 2.5146e+05],\n",
       "        [8.0000e+00, 2.4887e+05],\n",
       "        [7.0000e+00, 9.6303e+04],\n",
       "        [6.0000e+00, 2.8581e+05],\n",
       "        [6.0000e+00, 9.2394e+04],\n",
       "        [6.0000e+00, 2.4274e+05],\n",
       "        [8.0000e+00, 8.5140e+03],\n",
       "        [9.0000e+00, 1.2526e+05],\n",
       "        [7.0000e+00, 1.1690e+05],\n",
       "        [5.0000e+00, 1.4890e+05],\n",
       "        [9.0000e+00, 2.8509e+05],\n",
       "        [8.0000e+00, 2.1700e+02],\n",
       "        [7.0000e+00, 3.5081e+04],\n",
       "        [9.0000e+00, 1.3390e+05],\n",
       "        [5.0000e+00, 1.5832e+05],\n",
       "        [8.0000e+00, 2.1324e+05],\n",
       "        [7.0000e+00, 1.9687e+05],\n",
       "        [5.0000e+00, 1.5777e+05],\n",
       "        [6.0000e+00, 2.3968e+05],\n",
       "        [7.0000e+00, 2.1329e+05],\n",
       "        [6.0000e+00, 2.3417e+05],\n",
       "        [9.0000e+00, 1.0329e+05],\n",
       "        [5.0000e+00, 1.0557e+05],\n",
       "        [7.0000e+00, 1.6302e+05],\n",
       "        [5.0000e+00, 1.6975e+05],\n",
       "        [7.0000e+00, 4.1598e+04],\n",
       "        [8.0000e+00, 1.1990e+04],\n",
       "        [5.0000e+00, 2.1677e+05],\n",
       "        [5.0000e+00, 1.7697e+05],\n",
       "        [8.0000e+00, 2.5020e+05],\n",
       "        [5.0000e+00, 2.9614e+05],\n",
       "        [9.0000e+00, 8.0250e+04],\n",
       "        [8.0000e+00, 1.7170e+05],\n",
       "        [5.0000e+00, 2.4114e+05],\n",
       "        [6.0000e+00, 1.9538e+05],\n",
       "        [8.0000e+00, 9.9083e+04],\n",
       "        [9.0000e+00, 5.1423e+04],\n",
       "        [5.0000e+00, 4.8352e+04],\n",
       "        [3.0000e+00, 8.1680e+03],\n",
       "        [2.0000e+00, 4.4800e+02],\n",
       "        [4.0000e+00, 5.5250e+03],\n",
       "        [3.0000e+00, 1.6610e+03],\n",
       "        [2.0000e+00, 5.5940e+03],\n",
       "        [1.0000e+00, 5.9060e+03],\n",
       "        [3.0000e+00, 7.1460e+03],\n",
       "        [4.0000e+00, 3.8900e+03],\n",
       "        [1.0000e+00, 4.6210e+03],\n",
       "        [4.0000e+00, 3.8040e+03],\n",
       "        [2.0000e+00, 3.0620e+03],\n",
       "        [3.0000e+00, 5.2640e+03],\n",
       "        [2.0000e+00, 5.3320e+03],\n",
       "        [3.0000e+00, 9.3270e+03],\n",
       "        [2.0000e+00, 3.4030e+03],\n",
       "        [3.0000e+00, 9.1210e+03],\n",
       "        [4.0000e+00, 3.6970e+03],\n",
       "        [1.0000e+00, 8.1820e+03],\n",
       "        [2.0000e+00, 3.6720e+03],\n",
       "        [1.0000e+00, 3.6410e+03],\n",
       "        [2.0000e+00, 9.5730e+03],\n",
       "        [3.0000e+00, 7.5520e+03],\n",
       "        [4.0000e+00, 3.2900e+03],\n",
       "        [2.0000e+00, 6.7030e+03],\n",
       "        [1.0000e+00, 9.6110e+03],\n",
       "        [1.0000e+00, 2.3840e+03],\n",
       "        [4.0000e+00, 5.5550e+03],\n",
       "        [2.0000e+00, 4.5800e+03],\n",
       "        [3.0000e+00, 4.4640e+03],\n",
       "        [3.0000e+00, 4.3060e+03],\n",
       "        [3.0000e+00, 8.0400e+02],\n",
       "        [2.0000e+00, 3.9130e+03],\n",
       "        [1.0000e+00, 6.6200e+02],\n",
       "        [3.0000e+00, 1.8840e+03],\n",
       "        [1.0000e+00, 8.1190e+03],\n",
       "        [3.0000e+00, 7.8680e+03],\n",
       "        [4.0000e+00, 9.8840e+03],\n",
       "        [4.0000e+00, 5.0200e+02],\n",
       "        [2.0000e+00, 2.8070e+03],\n",
       "        [2.0000e+00, 3.8530e+03],\n",
       "        [3.0000e+00, 3.8100e+02],\n",
       "        [3.0000e+00, 8.0030e+03],\n",
       "        [2.0000e+00, 5.4080e+03],\n",
       "        [3.0000e+00, 3.3000e+01],\n",
       "        [4.0000e+00, 6.1000e+03],\n",
       "        [3.0000e+00, 3.3730e+03],\n",
       "        [4.0000e+00, 6.9200e+02],\n",
       "        [1.0000e+00, 4.2650e+03],\n",
       "        [3.0000e+00, 9.1270e+03],\n",
       "        [3.0000e+00, 8.4800e+03],\n",
       "        [1.0000e+00, 9.4860e+03],\n",
       "        [1.0000e+00, 6.1320e+03],\n",
       "        [1.0000e+00, 4.5400e+03],\n",
       "        [4.0000e+00, 3.2440e+03],\n",
       "        [1.0000e+00, 1.0550e+03],\n",
       "        [1.0000e+00, 6.4000e+01],\n",
       "        [2.0000e+00, 8.7300e+03],\n",
       "        [4.0000e+00, 3.2350e+03],\n",
       "        [3.0000e+00, 6.8100e+02],\n",
       "        [1.0000e+00, 5.5650e+03],\n",
       "        [4.0000e+00, 8.6810e+03],\n",
       "        [2.0000e+00, 4.0720e+03],\n",
       "        [3.0000e+00, 4.1400e+03],\n",
       "        [1.0000e+00, 3.6080e+03],\n",
       "        [2.0000e+00, 6.4290e+03],\n",
       "        [3.0000e+00, 4.4100e+02],\n",
       "        [3.0000e+00, 7.1250e+03],\n",
       "        [1.0000e+00, 1.4550e+03],\n",
       "        [4.0000e+00, 8.9710e+03],\n",
       "        [4.0000e+00, 3.9140e+03],\n",
       "        [2.0000e+00, 4.0030e+03],\n",
       "        [4.0000e+00, 7.0310e+03],\n",
       "        [2.0000e+00, 1.6800e+03],\n",
       "        [1.0000e+00, 2.8880e+03],\n",
       "        [2.0000e+00, 1.2180e+03],\n",
       "        [3.0000e+00, 1.5320e+03],\n",
       "        [2.0000e+00, 1.5100e+02],\n",
       "        [2.0000e+00, 1.8670e+03],\n",
       "        [1.0000e+00, 5.8380e+03],\n",
       "        [4.0000e+00, 6.9900e+02],\n",
       "        [3.0000e+00, 1.0440e+03],\n",
       "        [3.0000e+00, 8.5510e+03],\n",
       "        [4.0000e+00, 9.0440e+03],\n",
       "        [3.0000e+00, 6.5720e+03],\n",
       "        [1.0000e+00, 3.1810e+03],\n",
       "        [3.0000e+00, 8.3410e+03],\n",
       "        [2.0000e+00, 2.7580e+03],\n",
       "        [3.0000e+00, 5.2310e+03],\n",
       "        [3.0000e+00, 2.6480e+03],\n",
       "        [4.0000e+00, 9.5970e+03],\n",
       "        [4.0000e+00, 1.4120e+03],\n",
       "        [2.0000e+00, 9.4310e+03],\n",
       "        [2.0000e+00, 8.5640e+03],\n",
       "        [2.0000e+00, 7.6830e+03],\n",
       "        [1.0000e+00, 6.3210e+03],\n",
       "        [3.0000e+00, 6.2030e+03],\n",
       "        [2.0000e+00, 6.1490e+03],\n",
       "        [1.0000e+00, 9.3560e+03],\n",
       "        [1.0000e+00, 7.6960e+03],\n",
       "        [4.0000e+00, 7.6990e+03],\n",
       "        [3.0000e+00, 6.3170e+03],\n",
       "        [2.0000e+00, 1.6350e+03],\n",
       "        [2.0000e+00, 1.6110e+03],\n",
       "        [3.0000e+00, 9.1990e+03],\n",
       "        [3.0000e+00, 7.2490e+03],\n",
       "        [2.0000e+00, 4.1550e+03],\n",
       "        [3.0000e+00, 2.1000e+03],\n",
       "        [2.0000e+00, 9.9100e+02],\n",
       "        [3.0000e+00, 7.9640e+03],\n",
       "        [4.0000e+00, 9.6140e+03],\n",
       "        [1.0000e+00, 9.9110e+03],\n",
       "        [3.0000e+00, 8.5340e+03],\n",
       "        [2.0000e+00, 9.0160e+03],\n",
       "        [1.0000e+00, 6.5030e+03],\n",
       "        [3.0000e+00, 4.2390e+03],\n",
       "        [3.0000e+00, 9.3340e+03],\n",
       "        [3.0000e+00, 1.1630e+03],\n",
       "        [4.0000e+00, 4.2000e+02],\n",
       "        [3.0000e+00, 7.2190e+03],\n",
       "        [1.0000e+00, 5.1100e+03],\n",
       "        [2.0000e+00, 9.7480e+03],\n",
       "        [1.0000e+00, 9.7410e+03],\n",
       "        [2.0000e+00, 2.6080e+03],\n",
       "        [4.0000e+00, 5.0120e+03],\n",
       "        [4.0000e+00, 5.5620e+03],\n",
       "        [3.0000e+00, 8.9140e+03],\n",
       "        [2.0000e+00, 7.4050e+03],\n",
       "        [4.0000e+00, 1.1310e+03],\n",
       "        [1.0000e+00, 3.5120e+03],\n",
       "        [2.0000e+00, 3.6600e+03],\n",
       "        [1.0000e+00, 2.5310e+03],\n",
       "        [2.0000e+00, 3.2450e+03],\n",
       "        [3.0000e+00, 2.8750e+03],\n",
       "        [4.0000e+00, 1.8710e+03],\n",
       "        [4.0000e+00, 9.3140e+03],\n",
       "        [3.0000e+00, 4.4990e+03],\n",
       "        [3.0000e+00, 1.9210e+03],\n",
       "        [3.0000e+00, 9.8060e+03],\n",
       "        [2.0000e+00, 3.6540e+03],\n",
       "        [2.0000e+00, 6.2690e+03],\n",
       "        [1.0000e+00, 2.3150e+03],\n",
       "        [4.0000e+00, 5.0390e+03],\n",
       "        [4.0000e+00, 8.9700e+03],\n",
       "        [1.0000e+00, 8.8580e+03],\n",
       "        [1.0000e+00, 7.0400e+02],\n",
       "        [1.0000e+00, 7.9800e+02],\n",
       "        [3.0000e+00, 5.5200e+03],\n",
       "        [4.0000e+00, 8.5210e+03],\n",
       "        [3.0000e+00, 6.5700e+03],\n",
       "        [4.0000e+00, 3.7760e+03],\n",
       "        [1.0000e+00, 1.9790e+03],\n",
       "        [1.0000e+00, 8.6520e+03],\n",
       "        [2.0000e+00, 7.3900e+03],\n",
       "        [3.0000e+00, 9.8400e+03],\n",
       "        [3.0000e+00, 3.2980e+03],\n",
       "        [4.0000e+00, 3.1650e+03],\n",
       "        [4.0000e+00, 3.0170e+03],\n",
       "        [3.0000e+00, 8.2790e+03],\n",
       "        [4.0000e+00, 6.3490e+03],\n",
       "        [2.0000e+00, 5.2380e+03],\n",
       "        [1.0000e+00, 3.8990e+03],\n",
       "        [1.0000e+00, 6.4020e+03],\n",
       "        [4.0000e+00, 2.1110e+03],\n",
       "        [1.0000e+00, 8.1240e+03],\n",
       "        [2.0000e+00, 8.5000e+03],\n",
       "        [2.0000e+00, 7.7800e+02],\n",
       "        [3.0000e+00, 3.3090e+03],\n",
       "        [1.0000e+00, 7.4130e+03],\n",
       "        [2.0000e+00, 1.6300e+03],\n",
       "        [4.0000e+00, 9.4940e+03],\n",
       "        [4.0000e+00, 9.5330e+03],\n",
       "        [3.0000e+00, 7.8060e+03],\n",
       "        [1.0000e+00, 2.1120e+03],\n",
       "        [1.0000e+00, 3.6650e+03],\n",
       "        [2.0000e+00, 4.5970e+03],\n",
       "        [3.0000e+00, 2.5450e+03],\n",
       "        [1.0000e+00, 4.2100e+03],\n",
       "        [4.0000e+00, 5.0270e+03],\n",
       "        [3.0000e+00, 9.7700e+03],\n",
       "        [3.0000e+00, 1.3520e+03],\n",
       "        [3.0000e+00, 4.3020e+03],\n",
       "        [2.0000e+00, 8.3240e+03],\n",
       "        [1.0000e+00, 7.5760e+03]], dtype=torch.float64)"
      ]
     },
     "execution_count": 6,
     "metadata": {},
     "output_type": "execute_result"
    }
   ],
   "source": [
    "#train = pd.read_csv('Positive Game Review Data.csv')\n",
    "#train_tensor = torch.tensor(train.to_numpy())\n",
    "\n",
    "# read in the data\n",
    "starting_pos_train_data = np.genfromtxt(\"Positive_Game_Review_Data.csv\", delimiter=\",\")\n",
    "# drop the headers\n",
    "edited_pos_train_data = np.delete(starting_pos_train_data, 0, 0)\n",
    "# drop the column of names\n",
    "edited_pos_train_data = np.delete(edited_pos_train_data, 1, 1)\n",
    "# drop the column of ids\n",
    "edited_pos_train_data = np.delete(edited_pos_train_data, 0, 1)\n",
    "# get all the rows where the tag is action (the last column == 1)\n",
    "clipped_pos_1_train_data = edited_pos_train_data[np.where(edited_pos_train_data[:,4] == 1)]\n",
    "# drop that tag row and the player count and hours played rows\n",
    "cleaned_pos_1_train_data = clipped_pos_1_train_data[:, [2,3]]\n",
    "\n",
    "starting_neg_train_data = np.genfromtxt(\"Negative_Game_Review_Data.csv\", delimiter=\",\")\n",
    "edited_neg_train_data = np.delete(starting_neg_train_data, 0, 0)\n",
    "edited_neg_train_data = np.delete(edited_neg_train_data, 1, 1)\n",
    "edited_neg_train_data = np.delete(edited_neg_train_data, 0, 1)\n",
    "clipped_neg_1_train_data = edited_neg_train_data[np.where(edited_neg_train_data[:,4] == 1)]\n",
    "cleaned_neg_1_train_data = clipped_neg_1_train_data[:, [2,3]]\n",
    "\n",
    "cleaned_train_1_data = np.concatenate((cleaned_pos_1_train_data, cleaned_neg_1_train_data), axis=0)\n",
    "\n",
    "# to tensor\n",
    "train_tensor_1 = torch.from_numpy(cleaned_train_1_data)\n",
    "train_tensor_1"
   ]
  },
  {
   "cell_type": "code",
   "execution_count": 18,
   "id": "62ab6413",
   "metadata": {},
   "outputs": [
    {
     "data": {
      "text/plain": [
       "tensor([374, 374])"
      ]
     },
     "execution_count": 18,
     "metadata": {},
     "output_type": "execute_result"
    }
   ],
   "source": [
    "torch.count_nonzero(train_tensor_1, dim=0)"
   ]
  },
  {
   "cell_type": "code",
   "execution_count": 7,
   "id": "761d3e8d",
   "metadata": {},
   "outputs": [
    {
     "name": "stdout",
     "output_type": "stream",
     "text": [
      "running k-means on cuda:0..\n"
     ]
    },
    {
     "name": "stderr",
     "output_type": "stream",
     "text": [
      "[running kmeans]: 7it [00:00, 124.64it/s, center_shift=0.000000, iteration=7, tol=0.000100]       \n"
     ]
    }
   ],
   "source": [
    "from kmeans_pytorch import kmeans\n",
    "\n",
    "num_clusters = 9\n",
    "\n",
    "# kmeans\n",
    "cluster_ids_x, cluster_centers = kmeans(\n",
    "    X=train_tensor_1, num_clusters=num_clusters, distance='euclidean', device=torch.device('cuda:0')\n",
    ")"
   ]
  },
  {
   "cell_type": "code",
   "execution_count": 8,
   "id": "f5c563b2",
   "metadata": {},
   "outputs": [
    {
     "data": {
      "text/plain": [
       "tensor([8, 8, 0, 2, 0, 4, 7, 8, 3, 8, 4, 1, 8, 2, 7, 0, 0, 0, 1, 7, 1, 1, 5, 1,\n",
       "        3, 3, 2, 0, 1, 2, 6, 2, 8, 4, 8, 1, 0, 4, 7, 7, 3, 0, 5, 4, 0, 4, 0, 8,\n",
       "        6, 7, 8, 1, 2, 1, 5, 7, 7, 1, 6, 0, 7, 2, 5, 8, 5, 6, 0, 0, 2, 0, 8, 2,\n",
       "        1, 3, 3, 8, 5, 6, 3, 5, 1, 5, 1, 3, 1, 2, 7, 4, 7, 0, 1, 7, 0, 1, 5, 4,\n",
       "        2, 7, 6, 3, 0, 8, 5, 7, 3, 2, 7, 2, 1, 4, 2, 1, 0, 4, 0, 4, 0, 1, 5, 5,\n",
       "        1, 2, 2, 1, 0, 2, 3, 8, 8, 8, 3, 4, 4, 3, 2, 5, 2, 2, 0, 5, 4, 3, 1, 2,\n",
       "        4, 2, 5, 7, 7, 5, 8, 0, 5, 1, 1, 7, 0, 7, 1, 6, 5, 5, 3, 0, 6, 8, 5, 3,\n",
       "        2, 2, 3, 1, 2, 1, 7, 7, 3, 3, 8, 6, 2, 3, 1, 0, 7, 3, 1, 2, 7, 4, 4, 6,\n",
       "        6, 6, 6, 6, 6, 6, 6, 6, 6, 6, 6, 6, 6, 6, 6, 6, 6, 6, 6, 6, 6, 6, 6, 6,\n",
       "        6, 6, 6, 6, 6, 6, 6, 6, 6, 6, 6, 6, 6, 6, 6, 6, 6, 6, 6, 6, 6, 6, 6, 6,\n",
       "        6, 6, 6, 6, 6, 6, 6, 6, 6, 6, 6, 6, 6, 6, 6, 6, 6, 6, 6, 6, 6, 6, 6, 6,\n",
       "        6, 6, 6, 6, 6, 6, 6, 6, 6, 6, 6, 6, 6, 6, 6, 6, 6, 6, 6, 6, 6, 6, 6, 6,\n",
       "        6, 6, 6, 6, 6, 6, 6, 6, 6, 6, 6, 6, 6, 6, 6, 6, 6, 6, 6, 6, 6, 6, 6, 6,\n",
       "        6, 6, 6, 6, 6, 6, 6, 6, 6, 6, 6, 6, 6, 6, 6, 6, 6, 6, 6, 6, 6, 6, 6, 6,\n",
       "        6, 6, 6, 6, 6, 6, 6, 6, 6, 6, 6, 6, 6, 6, 6, 6, 6, 6, 6, 6, 6, 6, 6, 6,\n",
       "        6, 6, 6, 6, 6, 6, 6, 6, 6, 6, 6, 6, 6, 6])"
      ]
     },
     "execution_count": 8,
     "metadata": {},
     "output_type": "execute_result"
    }
   ],
   "source": [
    "cluster_ids_x"
   ]
  },
  {
   "cell_type": "code",
   "execution_count": 9,
   "id": "fca506a6",
   "metadata": {},
   "outputs": [
    {
     "data": {
      "text/plain": [
       "tensor([[7.1154e+00, 2.7947e+05],\n",
       "        [6.9655e+00, 2.3632e+05],\n",
       "        [7.0370e+00, 1.9839e+05],\n",
       "        [5.9524e+00, 1.6659e+05],\n",
       "        [7.3529e+00, 5.9203e+04],\n",
       "        [7.3500e+00, 1.3052e+05],\n",
       "        [2.7031e+00, 5.4279e+03],\n",
       "        [7.0000e+00, 9.5131e+04],\n",
       "        [6.3684e+00, 3.2688e+04]])"
      ]
     },
     "execution_count": 9,
     "metadata": {},
     "output_type": "execute_result"
    }
   ],
   "source": [
    "cluster_centers"
   ]
  },
  {
   "cell_type": "code",
   "execution_count": 29,
   "id": "8cd2a61a",
   "metadata": {},
   "outputs": [
    {
     "data": {
      "image/png": "[encoded data removed]",
      "text/plain": [
       "<Figure size 720x720 with 1 Axes>"
      ]
     },
     "metadata": {
      "needs_background": "light"
     },
     "output_type": "display_data"
    }
   ],
   "source": [
    "from matplotlib import pyplot as plt\n",
    "plt.figure(figsize=(10, 10))\n",
    "plt.scatter(train_tensor_1[:,0], train_tensor_1[:,1], c=cluster_ids_x)\n",
    "plt.scatter(cluster_centers[:,0], cluster_centers[:,1], c=\"red\", s=50, alpha=0.8)\n",
    "plt.axis([0, 10, 0, 350000])\n",
    "plt.tight_layout()\n",
    "plt.show()"
   ]
  },
  {
   "cell_type": "code",
   "execution_count": 30,
   "id": "2ac8f73b",
   "metadata": {},
   "outputs": [],
   "source": [
    "# Save centers in a csv\n",
    "cluster_centers_1_np = cluster_centers.numpy()\n",
    "cluster_centers_1_df = pd.DataFrame(cluster_centers_1_np)\n",
    "cluster_centers_1_df.to_csv('cluster_centers_1.csv')"
   ]
  },
  {
   "cell_type": "code",
   "execution_count": null,
   "id": "a8396698",
   "metadata": {},
   "outputs": [],
   "source": []
  }
 ],
 "metadata": {
  "kernelspec": {
   "display_name": "Python 3 (ipykernel)",
   "language": "python",
   "name": "python3"
  },
  "language_info": {
   "codemirror_mode": {
    "name": "ipython",
    "version": 3
   },
   "file_extension": ".py",
   "mimetype": "text/x-python",
   "name": "python",
   "nbconvert_exporter": "python",
   "pygments_lexer": "ipython3",
   "version": "3.7.4"
  }
 },
 "nbformat": 4,
 "nbformat_minor": 5
}
